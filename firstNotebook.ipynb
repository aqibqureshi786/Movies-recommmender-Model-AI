{
 "cells": [
  {
   "cell_type": "code",
   "execution_count": 1,
   "id": "eb767220",
   "metadata": {},
   "outputs": [
    {
     "name": "stderr",
     "output_type": "stream",
     "text": [
      "[nltk_data] Downloading package stopwords to\n",
      "[nltk_data]     C:\\Users\\HP\\AppData\\Roaming\\nltk_data...\n",
      "[nltk_data]   Package stopwords is already up-to-date!\n",
      "[nltk_data] Downloading package punkt to\n",
      "[nltk_data]     C:\\Users\\HP\\AppData\\Roaming\\nltk_data...\n",
      "[nltk_data]   Package punkt is already up-to-date!\n",
      "[nltk_data] Downloading package punkt_tab to\n",
      "[nltk_data]     C:\\Users\\HP\\AppData\\Roaming\\nltk_data...\n",
      "[nltk_data]   Package punkt_tab is already up-to-date!\n"
     ]
    },
    {
     "data": {
      "text/plain": [
       "True"
      ]
     },
     "execution_count": 1,
     "metadata": {},
     "output_type": "execute_result"
    }
   ],
   "source": [
    "import nltk\n",
    "nltk.download('stopwords')\n",
    "nltk.download('punkt')\n",
    "nltk.download('punkt_tab')"
   ]
  },
  {
   "cell_type": "code",
   "execution_count": 2,
   "id": "6228c334",
   "metadata": {},
   "outputs": [],
   "source": [
    "import pandas as pd\n",
    "import re\n",
    "from nltk.corpus import stopwords\n",
    "from nltk.tokenize import word_tokenize"
   ]
  },
  {
   "cell_type": "code",
   "execution_count": 3,
   "id": "7859ed3c",
   "metadata": {},
   "outputs": [
    {
     "name": "stdout",
     "output_type": "stream",
     "text": [
      "\u001b[38;5;2m✔ Download and installation successful\u001b[0m\n",
      "You can now load the package via spacy.load('en_core_web_sm')\n",
      "\u001b[38;5;3m⚠ Restart to reload dependencies\u001b[0m\n",
      "If you are in a Jupyter or Colab notebook, you may need to restart Python in\n",
      "order to load all the package's dependencies. You can do this by selecting the\n",
      "'Restart kernel' or 'Restart runtime' option.\n"
     ]
    }
   ],
   "source": [
    "import spacy\n",
    "spacy.cli.download(\"en_core_web_sm\")\n",
    "nlp=spacy.load(\"en_core_web_sm\")"
   ]
  },
  {
   "cell_type": "code",
   "execution_count": 1,
   "id": "f2972b1c",
   "metadata": {},
   "outputs": [
    {
     "ename": "NameError",
     "evalue": "name 'pd' is not defined",
     "output_type": "error",
     "traceback": [
      "\u001b[31m---------------------------------------------------------------------------\u001b[39m",
      "\u001b[31mNameError\u001b[39m                                 Traceback (most recent call last)",
      "\u001b[36mCell\u001b[39m\u001b[36m \u001b[39m\u001b[32mIn[1]\u001b[39m\u001b[32m, line 1\u001b[39m\n\u001b[32m----> \u001b[39m\u001b[32m1\u001b[39m \u001b[43mpd\u001b[49m.set_option(\u001b[33m'\u001b[39m\u001b[33mdisplay.max_colwidth\u001b[39m\u001b[33m'\u001b[39m,\u001b[38;5;28;01mNone\u001b[39;00m)\n\u001b[32m      2\u001b[39m \u001b[38;5;28;01mtry\u001b[39;00m:\n\u001b[32m      3\u001b[39m     df=pd.read_csv(\u001b[33m'\u001b[39m\u001b[33mdataset.csv\u001b[39m\u001b[33m'\u001b[39m)\n",
      "\u001b[31mNameError\u001b[39m: name 'pd' is not defined"
     ]
    }
   ],
   "source": [
    "pd.set_option('display.max_colwidth',None)\n",
    "try:\n",
    "    df=pd.read_csv('dataset.csv')\n",
    "except FileNotFoundError:\n",
    "    print(\"Error: dataset not found\")\n",
    "    display(df.head())"
   ]
  },
  {
   "cell_type": "code",
   "execution_count": 8,
   "id": "3ef57f34",
   "metadata": {},
   "outputs": [
    {
     "name": "stdout",
     "output_type": "stream",
     "text": [
      "\n",
      "dataset Information:\n",
      "<class 'pandas.core.frame.DataFrame'>\n",
      "RangeIndex: 50000 entries, 0 to 49999\n",
      "Data columns (total 2 columns):\n",
      " #   Column     Non-Null Count  Dtype \n",
      "---  ------     --------------  ----- \n",
      " 0   review     50000 non-null  object\n",
      " 1   sentiment  50000 non-null  object\n",
      "dtypes: object(2)\n",
      "memory usage: 781.4+ KB\n"
     ]
    }
   ],
   "source": [
    "print(\"\\ndataset Information:\")\n",
    "df.info()\n"
   ]
  },
  {
   "cell_type": "code",
   "execution_count": 10,
   "id": "a908261b",
   "metadata": {},
   "outputs": [
    {
     "name": "stdout",
     "output_type": "stream",
     "text": [
      "\n",
      " sentiment distribution:\n",
      "sentiment\n",
      "positive    25000\n",
      "negative    25000\n",
      "Name: count, dtype: int64\n"
     ]
    }
   ],
   "source": [
    "print(\"\\n sentiment distribution:\")\n",
    "print(df['sentiment'].value_counts())"
   ]
  },
  {
   "cell_type": "code",
   "execution_count": 11,
   "id": "806df940",
   "metadata": {},
   "outputs": [
    {
     "data": {
      "text/plain": [
       "{'a',\n",
       " 'about',\n",
       " 'above',\n",
       " 'after',\n",
       " 'again',\n",
       " 'against',\n",
       " 'ain',\n",
       " 'all',\n",
       " 'am',\n",
       " 'an',\n",
       " 'and',\n",
       " 'any',\n",
       " 'are',\n",
       " 'aren',\n",
       " \"aren't\",\n",
       " 'as',\n",
       " 'at',\n",
       " 'be',\n",
       " 'because',\n",
       " 'been',\n",
       " 'before',\n",
       " 'being',\n",
       " 'below',\n",
       " 'between',\n",
       " 'both',\n",
       " 'but',\n",
       " 'by',\n",
       " 'can',\n",
       " 'couldn',\n",
       " \"couldn't\",\n",
       " 'd',\n",
       " 'did',\n",
       " 'didn',\n",
       " \"didn't\",\n",
       " 'do',\n",
       " 'does',\n",
       " 'doesn',\n",
       " \"doesn't\",\n",
       " 'doing',\n",
       " 'don',\n",
       " \"don't\",\n",
       " 'down',\n",
       " 'during',\n",
       " 'each',\n",
       " 'few',\n",
       " 'for',\n",
       " 'from',\n",
       " 'further',\n",
       " 'had',\n",
       " 'hadn',\n",
       " \"hadn't\",\n",
       " 'has',\n",
       " 'hasn',\n",
       " \"hasn't\",\n",
       " 'have',\n",
       " 'haven',\n",
       " \"haven't\",\n",
       " 'having',\n",
       " 'he',\n",
       " \"he'd\",\n",
       " \"he'll\",\n",
       " \"he's\",\n",
       " 'her',\n",
       " 'here',\n",
       " 'hers',\n",
       " 'herself',\n",
       " 'him',\n",
       " 'himself',\n",
       " 'his',\n",
       " 'how',\n",
       " 'i',\n",
       " \"i'd\",\n",
       " \"i'll\",\n",
       " \"i'm\",\n",
       " \"i've\",\n",
       " 'if',\n",
       " 'in',\n",
       " 'into',\n",
       " 'is',\n",
       " 'isn',\n",
       " \"isn't\",\n",
       " 'it',\n",
       " \"it'd\",\n",
       " \"it'll\",\n",
       " \"it's\",\n",
       " 'its',\n",
       " 'itself',\n",
       " 'just',\n",
       " 'll',\n",
       " 'm',\n",
       " 'ma',\n",
       " 'me',\n",
       " 'mightn',\n",
       " \"mightn't\",\n",
       " 'more',\n",
       " 'most',\n",
       " 'mustn',\n",
       " \"mustn't\",\n",
       " 'my',\n",
       " 'myself',\n",
       " 'needn',\n",
       " \"needn't\",\n",
       " 'no',\n",
       " 'nor',\n",
       " 'not',\n",
       " 'now',\n",
       " 'o',\n",
       " 'of',\n",
       " 'off',\n",
       " 'on',\n",
       " 'once',\n",
       " 'only',\n",
       " 'or',\n",
       " 'other',\n",
       " 'our',\n",
       " 'ours',\n",
       " 'ourselves',\n",
       " 'out',\n",
       " 'over',\n",
       " 'own',\n",
       " 're',\n",
       " 's',\n",
       " 'same',\n",
       " 'shan',\n",
       " \"shan't\",\n",
       " 'she',\n",
       " \"she'd\",\n",
       " \"she'll\",\n",
       " \"she's\",\n",
       " 'should',\n",
       " \"should've\",\n",
       " 'shouldn',\n",
       " \"shouldn't\",\n",
       " 'so',\n",
       " 'some',\n",
       " 'such',\n",
       " 't',\n",
       " 'than',\n",
       " 'that',\n",
       " \"that'll\",\n",
       " 'the',\n",
       " 'their',\n",
       " 'theirs',\n",
       " 'them',\n",
       " 'themselves',\n",
       " 'then',\n",
       " 'there',\n",
       " 'these',\n",
       " 'they',\n",
       " \"they'd\",\n",
       " \"they'll\",\n",
       " \"they're\",\n",
       " \"they've\",\n",
       " 'this',\n",
       " 'those',\n",
       " 'through',\n",
       " 'to',\n",
       " 'too',\n",
       " 'under',\n",
       " 'until',\n",
       " 'up',\n",
       " 've',\n",
       " 'very',\n",
       " 'was',\n",
       " 'wasn',\n",
       " \"wasn't\",\n",
       " 'we',\n",
       " \"we'd\",\n",
       " \"we'll\",\n",
       " \"we're\",\n",
       " \"we've\",\n",
       " 'were',\n",
       " 'weren',\n",
       " \"weren't\",\n",
       " 'what',\n",
       " 'when',\n",
       " 'where',\n",
       " 'which',\n",
       " 'while',\n",
       " 'who',\n",
       " 'whom',\n",
       " 'why',\n",
       " 'will',\n",
       " 'with',\n",
       " 'won',\n",
       " \"won't\",\n",
       " 'wouldn',\n",
       " \"wouldn't\",\n",
       " 'y',\n",
       " 'you',\n",
       " \"you'd\",\n",
       " \"you'll\",\n",
       " \"you're\",\n",
       " \"you've\",\n",
       " 'your',\n",
       " 'yours',\n",
       " 'yourself',\n",
       " 'yourselves'}"
      ]
     },
     "execution_count": 11,
     "metadata": {},
     "output_type": "execute_result"
    }
   ],
   "source": [
    "stop_words=set(stopwords.words('english'))\n",
    "stop_words"
   ]
  },
  {
   "cell_type": "code",
   "execution_count": 13,
   "id": "c001ee3e",
   "metadata": {},
   "outputs": [],
   "source": [
    "def preprocess_text(text):\n",
    "    text=re.sub(r'<,*7','',text)\n",
    "    text=text.lower()\n",
    "    tokens=word_tokenize(text)\n",
    "    tokens=[word for word in tokens if word not in stop_words]\n",
    "    text= ' '.join(tokens)\n",
    "    doc=nlp(text)\n",
    "    lemmatized_tokens=[token.lemma_ for token in doc]\n",
    "    return ' '.join(lemmatized_tokens)"
   ]
  },
  {
   "cell_type": "code",
   "execution_count": 17,
   "id": "e8f84ce7",
   "metadata": {},
   "outputs": [
    {
     "name": "stdout",
     "output_type": "stream",
     "text": [
      "preprocessing all 50,000 reviews\n",
      "preprocessing complete\n",
      "\n",
      " comparing original vs cleaned review\n"
     ]
    },
    {
     "data": {
      "text/html": [
       "<div>\n",
       "<style scoped>\n",
       "    .dataframe tbody tr th:only-of-type {\n",
       "        vertical-align: middle;\n",
       "    }\n",
       "\n",
       "    .dataframe tbody tr th {\n",
       "        vertical-align: top;\n",
       "    }\n",
       "\n",
       "    .dataframe thead th {\n",
       "        text-align: right;\n",
       "    }\n",
       "</style>\n",
       "<table border=\"1\" class=\"dataframe\">\n",
       "  <thead>\n",
       "    <tr style=\"text-align: right;\">\n",
       "      <th></th>\n",
       "      <th>review</th>\n",
       "      <th>cleaned_review</th>\n",
       "    </tr>\n",
       "  </thead>\n",
       "  <tbody>\n",
       "    <tr>\n",
       "      <th>40182</th>\n",
       "      <td>I couldn't agree more with the other comment, it's like Falling down. Peter Weller is OK and William Hurt great as always, except in Lost in Space. This is a good movie. With pretty good performances. Very recommendable. If you like Falling down you're going to enjoy this one. 8 of 10</td>\n",
       "      <td>could not agree comment , be like fall . peter weller ok william hurt great always , except lose space . good movie . pretty good performance . recommendable . like fall be going enjoy one . 8 10</td>\n",
       "    </tr>\n",
       "    <tr>\n",
       "      <th>5734</th>\n",
       "      <td>Now don't get me wrong I love bad movies... no I adore bad movies, Troll 2.... ouch painful, Manos The Hands of Fate... just watch Torgo go, Guru the Mad Monk.. is that traffic noise in the medieval background? OK so that's clear, but this is one of those films that was quite obviously trying to be something better, but didn't make it. Why not? Well it would be easy to blame the plot, but heh we've seen worse, there weren't too many holes and heh I know there's not a lot of originality in it but then that needn't kill a film. The effects aren't bad (if you completely ignore the last scene), the monster is OK, the truck quite menacing so where did it go wrong? Well I'd love to blame it on the 'Chris Moyles' look-a-like Harley... so I will! Comedy and horror are difficult to mix well, bad comedy and horror even worse and there's the problem. I loathed this guy from the moment he stuck his head up (literally), the continual bating of the overly meek Adam becomes annoying, so annoying that you lose belief that the mildest of people wouldn't react by pushing him out of the moving car door... and I thought it was the monster bits that the director was meant to have trouble convincing us of. Why are bad movies fun? Well you have great fun poking holes in them, laughing at the script, all the howlers etc. This film doesn't make the coveted category of 'Worst Movies' because its just bad due to being annoying nuff said. Don't bother, go watch anything else and you'll be a better person for it... I promise! (Fade to chants of Torgo Torgo Torgo)</td>\n",
       "      <td>not get wrong love bad movie ... adore bad movie , troll 2 .... ouch painful , mano hand fate ... watch torgo go , guru mad monk .. traffic noise medieval background ? ok 's clear , one film quite obviously try something well , not make . ? well would easy blame plot , heh ' ve see bad , not many hole heh know 's lot originality need not kill film . effect not bad ( completely ignore last scene ) , monster ok , truck quite menacing go wrong ? well would love blame ' chris moyle ' look - a - like harley ... ! comedy horror difficult mix well , bad comedy horror even bad 's problem . loathe guy moment stick head ( literally ) , continual bate overly meek adam become annoying , annoying lose belief mild people would not react push move car door ... think monster bit director mean trouble convince we . bad movie fun ? well great fun poking hole , laugh script , howler etc . film not make coveted category ' bad movie ' bad due annoying nuff say . not bother , go watch anything else will well person ... promise ! ( fade chant torgo torgo torgo )</td>\n",
       "    </tr>\n",
       "    <tr>\n",
       "      <th>38079</th>\n",
       "      <td>I found this to be a tremendously disappointing version of a charming story. I thought the acting was on the whole quite good. Reginald Owen did chew the scenery, as mentioned by others, but I found him moderately amusing in his brief scenes. TCM has made an Ann Harding fan of me, and I thought she was fine as usual here. Jessie Ralph had a field day as the old battleaxe, ordering everybody around, and Frank Morgan, as always, played Frank Morgan with a twinkle.&lt;br /&gt;&lt;br /&gt;For me, the problem was the script and/or the editing--transitions were awkward, motivations were murky. The movie was just too darned short to convey the story properly! I felt completely let down, particularly since I had such fond memories of the later version.</td>\n",
       "      <td>find tremendously disappointing version charming story . think act whole quite good . reginald owen chew scenery , mention other , find moderately amusing brief scene . tcm make ann harding fan , think fine usual . jessie ralph field day old battleaxe , order everybody around , frank morgan , always , play frank morgan twinkle . &lt; br / &gt; &lt; br / &gt; , problem script and/or editing -- transition awkward , motivation murky . movie darn short convey story properly ! felt completely let , particularly since fond memory later version .</td>\n",
       "    </tr>\n",
       "    <tr>\n",
       "      <th>47078</th>\n",
       "      <td>This feels very stilted and patronizing to a great extent. The whole plot is extremely forced - especially the \"gallant\" effort to save the college from ruin, and the moralistic overtone (especially by the leading lady) grates a bit.&lt;br /&gt;&lt;br /&gt;But there are one or two comic moments that do help relieve the boredom, and the dancing is quite fun (especially for alleged amateurs - ha, ha!)&lt;br /&gt;&lt;br /&gt;The shop proprietor and the young guy doing spectacular tap dancing were particular highlights. And I liked Peter Hayes impressions of Charles Laughton and Ronald Coleman as well.</td>\n",
       "      <td>feels stilte patronize great extent . whole plot extremely force - especially ` ` gallant '' effort save college ruin , moralistic overtone ( especially lead lady ) grate bit . &lt; br / &gt; &lt; br / &gt; one two comic moment help relieve boredom , dance quite fun ( especially allege amateur - ha , ha ! ) &lt; br / &gt; &lt; br / &gt; shop proprietor young guy spectacular tap dance particular highlight . like peter hayes impression charles laughton ronald coleman well .</td>\n",
       "    </tr>\n",
       "    <tr>\n",
       "      <th>8525</th>\n",
       "      <td>I think this movie is absolutely beautiful. And I'm not referring only to the breathtaking scenery. It's about two unhappy English housewives who decide to rent an Italian castle to take a break from their not so happy home lives. In the end four women total rent the place together, all with different personalities and different reasons for being there. In this magically beautiful place they all find the peace they're longing for and interestingly that peace comes from inward reflections and resolutions, more so than without. I also find it wonderful because of the relationships that are developed out kindness and understanding. The acting is a joy to watch in itself. I especially love the characters of Lottie (Josie Lawrence) and Lady Caroline (Polly Walker).</td>\n",
       "      <td>think movie absolutely beautiful . ' m refer breathtake scenery . 's two unhappy english housewife decide rent italian castle take break happy home life . end four woman total rent place together , different personality different reason . magically beautiful place find peace be long interestingly peace come inward reflection resolution , without . also find wonderful relationship develop kindness understanding . act joy watch . especially love character lottie ( josie lawrence ) lady caroline ( polly walker ) .</td>\n",
       "    </tr>\n",
       "  </tbody>\n",
       "</table>\n",
       "</div>"
      ],
      "text/plain": [
       "                                                                                                                                                                                                                                                                                                                                                                                                                                                                                                                                                                                                                                                                                                                                                                                                                                                                                                                                                                                                                                                                                                                                                                                                                                                                                                                                                                                                                                                                                                                                                                                                                         review  \\\n",
       "40182                                                                                                                                                                                                                                                                                                                                                                                                                                                                                                                                                                                                                                                                                                                                                                                                                                                                                                                                                                                                                                                                                                                                                                                                                                                                                                                             I couldn't agree more with the other comment, it's like Falling down. Peter Weller is OK and William Hurt great as always, except in Lost in Space. This is a good movie. With pretty good performances. Very recommendable. If you like Falling down you're going to enjoy this one. 8 of 10   \n",
       "5734   Now don't get me wrong I love bad movies... no I adore bad movies, Troll 2.... ouch painful, Manos The Hands of Fate... just watch Torgo go, Guru the Mad Monk.. is that traffic noise in the medieval background? OK so that's clear, but this is one of those films that was quite obviously trying to be something better, but didn't make it. Why not? Well it would be easy to blame the plot, but heh we've seen worse, there weren't too many holes and heh I know there's not a lot of originality in it but then that needn't kill a film. The effects aren't bad (if you completely ignore the last scene), the monster is OK, the truck quite menacing so where did it go wrong? Well I'd love to blame it on the 'Chris Moyles' look-a-like Harley... so I will! Comedy and horror are difficult to mix well, bad comedy and horror even worse and there's the problem. I loathed this guy from the moment he stuck his head up (literally), the continual bating of the overly meek Adam becomes annoying, so annoying that you lose belief that the mildest of people wouldn't react by pushing him out of the moving car door... and I thought it was the monster bits that the director was meant to have trouble convincing us of. Why are bad movies fun? Well you have great fun poking holes in them, laughing at the script, all the howlers etc. This film doesn't make the coveted category of 'Worst Movies' because its just bad due to being annoying nuff said. Don't bother, go watch anything else and you'll be a better person for it... I promise! (Fade to chants of Torgo Torgo Torgo)   \n",
       "38079                                                                                                                                                                                                                                                                                                                                                                                                                                                                                                                                                                                                                                                                                                                                                                                                                                                    I found this to be a tremendously disappointing version of a charming story. I thought the acting was on the whole quite good. Reginald Owen did chew the scenery, as mentioned by others, but I found him moderately amusing in his brief scenes. TCM has made an Ann Harding fan of me, and I thought she was fine as usual here. Jessie Ralph had a field day as the old battleaxe, ordering everybody around, and Frank Morgan, as always, played Frank Morgan with a twinkle.<br /><br />For me, the problem was the script and/or the editing--transitions were awkward, motivations were murky. The movie was just too darned short to convey the story properly! I felt completely let down, particularly since I had such fond memories of the later version.   \n",
       "47078                                                                                                                                                                                                                                                                                                                                                                                                                                                                                                                                                                                                                                                                                                                                                                                                                                                                                                                                                                                                                     This feels very stilted and patronizing to a great extent. The whole plot is extremely forced - especially the \"gallant\" effort to save the college from ruin, and the moralistic overtone (especially by the leading lady) grates a bit.<br /><br />But there are one or two comic moments that do help relieve the boredom, and the dancing is quite fun (especially for alleged amateurs - ha, ha!)<br /><br />The shop proprietor and the young guy doing spectacular tap dancing were particular highlights. And I liked Peter Hayes impressions of Charles Laughton and Ronald Coleman as well.   \n",
       "8525                                                                                                                                                                                                                                                                                                                                                                                                                                                                                                                                                                                                                                                                                                                                                                                                                         I think this movie is absolutely beautiful. And I'm not referring only to the breathtaking scenery. It's about two unhappy English housewives who decide to rent an Italian castle to take a break from their not so happy home lives. In the end four women total rent the place together, all with different personalities and different reasons for being there. In this magically beautiful place they all find the peace they're longing for and interestingly that peace comes from inward reflections and resolutions, more so than without. I also find it wonderful because of the relationships that are developed out kindness and understanding. The acting is a joy to watch in itself. I especially love the characters of Lottie (Josie Lawrence) and Lady Caroline (Polly Walker).   \n",
       "\n",
       "                                                                                                                                                                                                                                                                                                                                                                                                                                                                                                                                                                                                                                                                                                                                                                                                                                                                                                                                                                                                                                                                                        cleaned_review  \n",
       "40182                                                                                                                                                                                                                                                                                                                                                                                                                                                                                                                                                                                                                                                                                                                                                                                                                                                                                              could not agree comment , be like fall . peter weller ok william hurt great always , except lose space . good movie . pretty good performance . recommendable . like fall be going enjoy one . 8 10  \n",
       "5734   not get wrong love bad movie ... adore bad movie , troll 2 .... ouch painful , mano hand fate ... watch torgo go , guru mad monk .. traffic noise medieval background ? ok 's clear , one film quite obviously try something well , not make . ? well would easy blame plot , heh ' ve see bad , not many hole heh know 's lot originality need not kill film . effect not bad ( completely ignore last scene ) , monster ok , truck quite menacing go wrong ? well would love blame ' chris moyle ' look - a - like harley ... ! comedy horror difficult mix well , bad comedy horror even bad 's problem . loathe guy moment stick head ( literally ) , continual bate overly meek adam become annoying , annoying lose belief mild people would not react push move car door ... think monster bit director mean trouble convince we . bad movie fun ? well great fun poking hole , laugh script , howler etc . film not make coveted category ' bad movie ' bad due annoying nuff say . not bother , go watch anything else will well person ... promise ! ( fade chant torgo torgo torgo )  \n",
       "38079                                                                                                                                                                                                                                                                                                                                                                                                                                                                                                                                            find tremendously disappointing version charming story . think act whole quite good . reginald owen chew scenery , mention other , find moderately amusing brief scene . tcm make ann harding fan , think fine usual . jessie ralph field day old battleaxe , order everybody around , frank morgan , always , play frank morgan twinkle . < br / > < br / > , problem script and/or editing -- transition awkward , motivation murky . movie darn short convey story properly ! felt completely let , particularly since fond memory later version .  \n",
       "47078                                                                                                                                                                                                                                                                                                                                                                                                                                                                                                                                                                                                                             feels stilte patronize great extent . whole plot extremely force - especially ` ` gallant '' effort save college ruin , moralistic overtone ( especially lead lady ) grate bit . < br / > < br / > one two comic moment help relieve boredom , dance quite fun ( especially allege amateur - ha , ha ! ) < br / > < br / > shop proprietor young guy spectacular tap dance particular highlight . like peter hayes impression charles laughton ronald coleman well .  \n",
       "8525                                                                                                                                                                                                                                                                                                                                                                                                                                                                                                                                                              think movie absolutely beautiful . ' m refer breathtake scenery . 's two unhappy english housewife decide rent italian castle take break happy home life . end four woman total rent place together , different personality different reason . magically beautiful place find peace be long interestingly peace come inward reflection resolution , without . also find wonderful relationship develop kindness understanding . act joy watch . especially love character lottie ( josie lawrence ) lady caroline ( polly walker ) .  "
      ]
     },
     "metadata": {},
     "output_type": "display_data"
    }
   ],
   "source": [
    "print(\"preprocessing all 50,000 reviews\")\n",
    "df= df.sample(500).copy()\n",
    "df[\"cleaned_review\"]=df['review'].apply(preprocess_text)\n",
    "print(\"preprocessing complete\")\n",
    "print(\"\\n comparing original vs cleaned review\")\n",
    "display(df[['review','cleaned_review']].head())"
   ]
  },
  {
   "cell_type": "code",
   "execution_count": 21,
   "id": "40676e3b",
   "metadata": {},
   "outputs": [
    {
     "name": "stdout",
     "output_type": "stream",
     "text": [
      "training set size: 400\n",
      "Testing set size: 100\n"
     ]
    }
   ],
   "source": [
    "from sklearn.model_selection import train_test_split\n",
    "df['sentiment_numeric'] = df['sentiment'].map({'positive':1, 'negative':0})\n",
    "X=df['cleaned_review']\n",
    "y=df['sentiment_numeric']\n",
    "X_train, X_test, y_train, y_test=train_test_split(X,y,test_size=0.2, random_state=42, stratify=y)\n",
    "print(f\"training set size: {len(X_train)}\")\n",
    "print(f\"Testing set size: {len(X_test)}\")"
   ]
  },
  {
   "cell_type": "code",
   "execution_count": 23,
   "id": "489145ca",
   "metadata": {},
   "outputs": [
    {
     "name": "stdout",
     "output_type": "stream",
     "text": [
      "Shape of the training TF-IDF matrix: (400, 5000)\n",
      "Shape of the testing TF-IDF matrix: (100, 5000)\n"
     ]
    }
   ],
   "source": [
    "from sklearn.feature_extraction.text import TfidfVectorizer\n",
    "\n",
    "# Initialize the TF-IDF Vectorizer\n",
    "# max_features=5000 means we only use the 5000 most common words, which is efficient\n",
    "tfidf = TfidfVectorizer(max_features=5000)\n",
    "\n",
    "# Fit the vectorizer on the training data and transform it\n",
    "X_train_tfidf = tfidf.fit_transform(X_train)\n",
    "\n",
    "# ONLY transform the test data using the already-fitted vectorizer\n",
    "X_test_tfidf = tfidf.transform(X_test)\n",
    "\n",
    "print(f\"Shape of the training TF-IDF matrix: {X_train_tfidf.shape}\")\n",
    "print(f\"Shape of the testing TF-IDF matrix: {X_test_tfidf.shape}\")"
   ]
  },
  {
   "cell_type": "code",
   "execution_count": 24,
   "id": "baa1c13f",
   "metadata": {},
   "outputs": [
    {
     "name": "stdout",
     "output_type": "stream",
     "text": [
      "Model training complete!\n"
     ]
    }
   ],
   "source": [
    "from sklearn.linear_model import LogisticRegression\n",
    "\n",
    "# Initialize and train the model\n",
    "# solver='liblinear' is a good choice for this type of problem\n",
    "model = LogisticRegression(solver='liblinear')\n",
    "model.fit(X_train_tfidf, y_train)\n",
    "\n",
    "print(\"Model training complete!\")"
   ]
  },
  {
   "cell_type": "code",
   "execution_count": 25,
   "id": "f97762ca",
   "metadata": {},
   "outputs": [
    {
     "name": "stdout",
     "output_type": "stream",
     "text": [
      "Review: 'This movie was absolutely fantastic! The acting was superb and the plot was gripping.'\n",
      "Predicted Sentiment: Positive\n",
      "\n",
      "Review: 'I was so bored throughout the entire film. It was a complete waste of time and money.'\n",
      "Predicted Sentiment: Negative\n",
      "\n",
      "Review: 'The film was okay, not great but not terrible either. Some parts were good.'\n",
      "Predicted Sentiment: Positive\n",
      "\n"
     ]
    }
   ],
   "source": [
    "def predict_sentiment(text):\n",
    "    \"\"\"\n",
    "    Takes a raw text string and predicts its sentiment using the trained model.\n",
    "    \"\"\"\n",
    "    # 1. Preprocess the text using the same function from Cell 2\n",
    "    cleaned_text = preprocess_text(text)\n",
    "    \n",
    "    # 2. Vectorize the text using the SAME fitted TF-IDF vectorizer from Cell 5\n",
    "    vectorized_text = tfidf.transform([cleaned_text])\n",
    "    \n",
    "    # 3. Predict using the trained model from Cell 6\n",
    "    prediction = model.predict(vectorized_text)\n",
    "    \n",
    "    # 4. Return the human-readable result\n",
    "    return 'Positive' if prediction[0] == 1 else 'Negative'\n",
    "\n",
    "# --- Test Cases ---\n",
    "review_1 = \"This movie was absolutely fantastic! The acting was superb and the plot was gripping.\"\n",
    "review_2 = \"I was so bored throughout the entire film. It was a complete waste of time and money.\"\n",
    "review_3 = \"The film was okay, not great but not terrible either. Some parts were good.\"\n",
    "\n",
    "print(f\"Review: '{review_1}'\\nPredicted Sentiment: {predict_sentiment(review_1)}\\n\")\n",
    "print(f\"Review: '{review_2}'\\nPredicted Sentiment: {predict_sentiment(review_2)}\\n\")\n",
    "print(f\"Review: '{review_3}'\\nPredicted Sentiment: {predict_sentiment(review_3)}\\n\")"
   ]
  },
  {
   "cell_type": "code",
   "execution_count": 26,
   "id": "4e04bffd",
   "metadata": {},
   "outputs": [
    {
     "name": "stdout",
     "output_type": "stream",
     "text": [
      "Model Accuracy: 0.8300\n",
      "\n",
      "Classification Report:\n",
      "              precision    recall  f1-score   support\n",
      "\n",
      "    Negative       0.89      0.72      0.80        46\n",
      "    Positive       0.79      0.93      0.85        54\n",
      "\n",
      "    accuracy                           0.83       100\n",
      "   macro avg       0.84      0.82      0.82       100\n",
      "weighted avg       0.84      0.83      0.83       100\n",
      "\n"
     ]
    },
    {
     "data": {
      "image/png": "[encoded data removed]",
      "text/plain": [
       "<Figure size 600x500 with 2 Axes>"
      ]
     },
     "metadata": {},
     "output_type": "display_data"
    }
   ],
   "source": [
    "from sklearn.metrics import accuracy_score, classification_report, confusion_matrix\n",
    "import matplotlib.pyplot as plt\n",
    "import seaborn as sns\n",
    "\n",
    "# Make predictions on the test set\n",
    "y_pred = model.predict(X_test_tfidf)\n",
    "\n",
    "# Calculate accuracy\n",
    "accuracy = accuracy_score(y_test, y_pred)\n",
    "print(f\"Model Accuracy: {accuracy:.4f}\")\n",
    "\n",
    "# Print the detailed classification report\n",
    "print(\"\\nClassification Report:\")\n",
    "print(classification_report(y_test, y_pred, target_names=['Negative', 'Positive']))\n",
    "\n",
    "# Plot the confusion matrix\n",
    "cm = confusion_matrix(y_test, y_pred)\n",
    "plt.figure(figsize=(6, 5))\n",
    "sns.heatmap(cm, annot=True, fmt='d', cmap='Blues', \n",
    "            xticklabels=['Negative', 'Positive'], \n",
    "            yticklabels=['Negative', 'Positive'])\n",
    "plt.xlabel('Predicted Label')\n",
    "plt.ylabel('True Label')\n",
    "plt.title('Confusion Matrix')\n",
    "plt.show()"
   ]
  }
 ],
 "metadata": {
  "kernelspec": {
   "display_name": "Python 3",
   "language": "python",
   "name": "python3"
  },
  "language_info": {
   "codemirror_mode": {
    "name": "ipython",
    "version": 3
   },
   "file_extension": ".py",
   "mimetype": "text/x-python",
   "name": "python",
   "nbconvert_exporter": "python",
   "pygments_lexer": "ipython3",
   "version": "3.11.9"
  }
 },
 "nbformat": 4,
 "nbformat_minor": 5
}
